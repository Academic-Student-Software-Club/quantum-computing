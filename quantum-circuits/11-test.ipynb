{
 "cells": [
  {
   "cell_type": "code",
   "execution_count": 4,
   "id": "6351eba0",
   "metadata": {},
   "outputs": [
    {
     "data": {
      "image/png": "[encoded data removed]",
      "text/plain": [
       "<Figure size 203.885x284.278 with 1 Axes>"
      ]
     },
     "execution_count": 4,
     "metadata": {},
     "output_type": "execute_result"
    }
   ],
   "source": [
    "import numpy as np\n",
    "from qiskit import QuantumCircuit\n",
    "from qiskit.quantum_info import Operator, Statevector\n",
    "from qiskit.circuit.library import UnitaryGate\n",
    "from qiskit.visualization import plot_state_city\n",
    "import matplotlib.pyplot as plt\n",
    "\n",
    "\n",
    "qc = QuantumCircuit(3)\n",
    "H = (1/np.sqrt(2))*np.array([[1,1],[1,-1]])\n",
    "H_gate = UnitaryGate(H,label=\"H\")\n",
    "cH = H_gate.control(2,label=\"\")\n",
    "qc.append(cH,[0,1,2])\n",
    "qc.draw(\"mpl\")"
   ]
  },
  {
   "cell_type": "code",
   "execution_count": 5,
   "id": "5a4e1da2",
   "metadata": {},
   "outputs": [
    {
     "data": {
      "image/png": "[encoded data removed]",
      "text/plain": [
       "<Figure size 538.33x284.278 with 1 Axes>"
      ]
     },
     "execution_count": 5,
     "metadata": {},
     "output_type": "execute_result"
    }
   ],
   "source": [
    "import numpy as np\n",
    "from qiskit import QuantumCircuit\n",
    "from qiskit.quantum_info import Operator, Statevector\n",
    "from qiskit.circuit.library import UnitaryGate\n",
    "from qiskit.visualization import plot_state_city\n",
    "import matplotlib.pyplot as plt\n",
    "\n",
    "from qiskit.circuit.library import HGate\n",
    "import cmath\n",
    "\n",
    "H = (1/np.sqrt(2))*np.array([[1,1],[1,-1]])\n",
    "\n",
    "# Gets eigenvalues/vectors of H.\n",
    "e_val,e_vec = np.linalg.eig(H)\n",
    "\n",
    "# Constructs D and D^{1.2}\n",
    "D = np.array([[e_val[0],0],[0,e_val[1]]])\n",
    "Dhalf = np.array([[cmath.sqrt(e_val[0]),0],[0,cmath.sqrt(e_val[1])]])\n",
    "\n",
    "# Construct K and K^-1\n",
    "K = e_vec\n",
    "Kinv = np.linalg.inv(K)\n",
    "\n",
    "# Now we make V and Vdag, using K * Dhalf * Kinv.\n",
    "\n",
    "V = K@Dhalf@Kinv\n",
    "Vdag = V.T.conj()\n",
    "\n",
    "# And now we construct the circuit.\n",
    "\n",
    "qc = QuantumCircuit(3)\n",
    "\n",
    "# construct unique cV and cVdag gates\n",
    "V_gate = UnitaryGate(V,label=\"V\")\n",
    "Vdag_gate = UnitaryGate(Vdag,label=\"V+\")\n",
    "cV = V_gate.control(1,label=\"\")\n",
    "cVdag = Vdag_gate.control(1,label=\"\")\n",
    "\n",
    "X = np.array([[0,1],[1,0]])\n",
    "\n",
    "# Controlled V on bits [1,2]\n",
    "\n",
    "qc.append(cV,[1,2])\n",
    "\n",
    "# CNOT on [0,1]\n",
    "qc.cx(0,1)\n",
    "\n",
    "\n",
    "# Controlled Vdagger on bits [1,2] \n",
    "\n",
    "qc.append(cVdag,[1,2])\n",
    "\n",
    "\n",
    "# CNOT on [0,1]\n",
    "qc.cx(0,1)\n",
    "\n",
    "\n",
    "# Controlled V on bits [0,2]\n",
    "qc.append(cV,[0,2])\n",
    "\n",
    "qc.draw(\"mpl\")"
   ]
  }
 ],
 "metadata": {
  "kernelspec": {
   "display_name": "Python 3",
   "language": "python",
   "name": "python3"
  },
  "language_info": {
   "codemirror_mode": {
    "name": "ipython",
    "version": 3
   },
   "file_extension": ".py",
   "mimetype": "text/x-python",
   "name": "python",
   "nbconvert_exporter": "python",
   "pygments_lexer": "ipython3",
   "version": "3.13.5"
  }
 },
 "nbformat": 4,
 "nbformat_minor": 5
}
